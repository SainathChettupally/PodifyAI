{
 "cells": [
  {
   "cell_type": "code",
   "execution_count": null,
   "id": "f4378088",
   "metadata": {},
   "outputs": [],
   "source": [
    "import sys, torch, transformers\n",
    "print(\"Python:\", sys.version)\n",
    "print(\"Torch:\", torch.__version__)\n",
    "print(\"Transformers:\", transformers.__version__)\n"
   ]
  },
  {
   "cell_type": "code",
   "execution_count": null,
   "id": "b72ccf4d",
   "metadata": {},
   "outputs": [],
   "source": [
    "from src.extractors import detect_and_extract_text, clean_text, truncate_for_demo\n",
    "\n",
    "TEST_PATH = \"data/Clustering.pdf\"  # can be .docx/.pptx/.txt/.md/.html/.csv\n",
    "\n",
    "try:\n",
    "    raw = detect_and_extract_text(TEST_PATH)\n",
    "except Exception:\n",
    "    raw = (\"PodifyAI demo text. Upload any supported file (PDF, DOCX, PPTX, TXT, MD, HTML, CSV) \"\n",
    "           \"to extract text and summarize. \" * 5)\n",
    "\n",
    "text = truncate_for_demo(clean_text(raw))\n",
    "print(text[:800])\n"
   ]
  },
  {
   "cell_type": "code",
   "execution_count": null,
   "id": "d8c9b8f6",
   "metadata": {},
   "outputs": [],
   "source": [
    "from src.summarizer import summarize\n",
    "summary = summarize(text, mode=\"standard\")\n",
    "print(summary)\n"
   ]
  },
  {
   "cell_type": "code",
   "execution_count": null,
   "id": "976e5493",
   "metadata": {},
   "outputs": [],
   "source": [
    "from pathlib import Path\n",
    "Path(\"results\").mkdir(exist_ok=True)\n",
    "(Path(\"results\") / \"sample_summary.txt\").write_text(summary, encoding=\"utf-8\")\n",
    "print(\"Saved to results/sample_summary.txt\")\n"
   ]
  }
 ],
 "metadata": {
  "language_info": {
   "name": "python"
  }
 },
 "nbformat": 4,
 "nbformat_minor": 5
}
